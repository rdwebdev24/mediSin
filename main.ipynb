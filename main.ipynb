{
 "cells": [
  {
   "cell_type": "code",
   "execution_count": 63,
   "metadata": {},
   "outputs": [],
   "source": [
    "# Importing libraries\n",
    "import numpy as np\n",
    "import pandas as pd\n",
    "from scipy.stats import mode\n",
    "import matplotlib.pyplot as plt\n",
    "import seaborn as sns\n",
    "from sklearn.preprocessing import LabelEncoder\n",
    "from sklearn.model_selection import train_test_split, cross_val_score\n",
    "from sklearn.svm import SVC\n",
    "from sklearn.naive_bayes import GaussianNB\n",
    "from sklearn.ensemble import RandomForestClassifier\n",
    "from sklearn.metrics import accuracy_score, confusion_matrix\n",
    "\n",
    "%matplotlib inline\n"
   ]
  },
  {
   "cell_type": "code",
   "execution_count": 64,
   "metadata": {},
   "outputs": [],
   "source": [
    "DATA_PATH = \"./Training.csv\"\n",
    "data = pd.read_csv(DATA_PATH).dropna(axis = 1)"
   ]
  },
  {
   "cell_type": "code",
   "execution_count": 65,
   "metadata": {},
   "outputs": [],
   "source": [
    "disease_counts = data[\"prognosis\"].value_counts()"
   ]
  },
  {
   "cell_type": "code",
   "execution_count": 67,
   "metadata": {},
   "outputs": [],
   "source": [
    "encoder = LabelEncoder()\n",
    "data[\"prognosis\"] = encoder.fit_transform(data[\"prognosis\"])"
   ]
  },
  {
   "cell_type": "code",
   "execution_count": 68,
   "metadata": {},
   "outputs": [],
   "source": [
    "X = data.iloc[:,:-1]\n",
    "y = data.iloc[:, -1]\n",
    "\n",
    "X_train, X_test, y_train, y_test =train_test_split(\n",
    "  X, y, test_size = 0.2, random_state = 24)"
   ]
  },
  {
   "cell_type": "code",
   "execution_count": 69,
   "metadata": {},
   "outputs": [
    {
     "name": "stdout",
     "output_type": "stream",
     "text": [
      "Train: (3936, 132), (3936,)\n",
      "Test: (984, 132), (984,)\n"
     ]
    }
   ],
   "source": [
    "print(f\"Train: {X_train.shape}, {y_train.shape}\")\n",
    "print(f\"Test: {X_test.shape}, {y_test.shape}\")"
   ]
  },
  {
   "cell_type": "code",
   "execution_count": 70,
   "metadata": {},
   "outputs": [
    {
     "name": "stdout",
     "output_type": "stream",
     "text": [
      "============================================================\n",
      "SVC\n",
      "Scores: [1. 1. 1. 1. 1. 1. 1. 1. 1. 1.]\n",
      "Mean Score: 1.0\n",
      "============================================================\n",
      "Gaussian NB\n",
      "Scores: [1. 1. 1. 1. 1. 1. 1. 1. 1. 1.]\n",
      "Mean Score: 1.0\n",
      "============================================================\n",
      "Random Forest\n",
      "Scores: [1. 1. 1. 1. 1. 1. 1. 1. 1. 1.]\n",
      "Mean Score: 1.0\n"
     ]
    }
   ],
   "source": [
    "# def cv_scoring(estimator, X, y):\n",
    "# \treturn accuracy_score(y, estimator.predict(X))\n",
    "\n",
    "# models = {\n",
    "# \t\"SVC\":SVC(),\n",
    "# \t\"Gaussian NB\":GaussianNB(),\n",
    "# \t\"Random Forest\":RandomForestClassifier(random_state=18)\n",
    "# }\n",
    "\n",
    "# for model_name in models:\n",
    "# \tmodel = models[model_name]\n",
    "# \tscores = cross_val_score(model, X, y, cv = 10,\n",
    "# \t\t\t\t\t\t\tn_jobs = -1,\n",
    "# \t\t\t\t\t\t\tscoring = cv_scoring)\n",
    "# \tprint(\"==\"*30)\n",
    "# \tprint(model_name)\n",
    "# \tprint(f\"Scores: {scores}\")\n",
    "# \tprint(f\"Mean Score: {np.mean(scores)}\")\n"
   ]
  },
  {
   "cell_type": "code",
   "execution_count": 80,
   "metadata": {},
   "outputs": [
    {
     "name": "stdout",
     "output_type": "stream",
     "text": [
      "Accuracy on train data by SVM Classifier: 100.0\n",
      "Accuracy on test data by SVM Classifier: 100.0\n"
     ]
    }
   ],
   "source": [
    "# Training and testing SVM Classifier\n",
    "svm_model = SVC()\n",
    "svm_model.fit(X_train, y_train)\n",
    "preds = svm_model.predict(X_test)\n",
    "\n",
    "print(f\"Accuracy on train data by SVM Classifier\\\n",
    ": {accuracy_score(y_train, svm_model.predict(X_train))*100}\")\n",
    "\n",
    "print(f\"Accuracy on test data by SVM Classifier\\\n",
    ": {accuracy_score(y_test, preds)*100}\")\n",
    "# cf_matrix = confusion_matrix(y_test, preds)\n",
    "# plt.figure(figsize=(12,8))\n",
    "# sns.heatmap(cf_matrix, annot=True)\n",
    "# plt.title(\"Confusion Matrix for SVM Classifier on Test Data\")\n",
    "# plt.show()\n",
    "\n",
    "# Training and testing Naive Bayes Classifier\n",
    "# nb_model = GaussianNB()\n",
    "# nb_model.fit(X_train, y_train)\n",
    "# preds = nb_model.predict(X_test)\n",
    "# print(f\"Accuracy on train data by Naive Bayes Classifier\\\n",
    "# : {accuracy_score(y_train, nb_model.predict(X_train))*100}\")\n",
    "\n",
    "# print(f\"Accuracy on test data by Naive Bayes Classifier\\\n",
    "# : {accuracy_score(y_test, preds)*100}\")\n",
    "# cf_matrix = confusion_matrix(y_test, preds)\n",
    "# plt.figure(figsize=(12,8))\n",
    "# sns.heatmap(cf_matrix, annot=True)\n",
    "# plt.title(\"Confusion Matrix for Naive Bayes Classifier on Test Data\")\n",
    "# plt.show()\n",
    "\n",
    "# # Training and testing Random Forest Classifier\n",
    "# rf_model = RandomForestClassifier(random_state=18)\n",
    "# rf_model.fit(X_train, y_train)\n",
    "# preds = rf_model.predict(X_test)\n",
    "# print(f\"Accuracy on train data by Random Forest Classifier\\\n",
    "# : {accuracy_score(y_train, rf_model.predict(X_train))*100}\")\n",
    "\n",
    "# print(f\"Accuracy on test data by Random Forest Classifier\\\n",
    "# : {accuracy_score(y_test, preds)*100}\")\n",
    "\n",
    "# cf_matrix = confusion_matrix(y_test, preds)\n",
    "# plt.figure(figsize=(12,8))\n",
    "# sns.heatmap(cf_matrix, annot=True)\n",
    "# plt.title(\"Confusion Matrix for Random Forest Classifier on Test Data\")\n",
    "# plt.show()\n"
   ]
  },
  {
   "cell_type": "code",
   "execution_count": 81,
   "metadata": {},
   "outputs": [
    {
     "name": "stdout",
     "output_type": "stream",
     "text": [
      "Accuracy on Test dataset by the combined model: 100.0\n"
     ]
    }
   ],
   "source": [
    "# Training the models on whole data\n",
    "final_svm_model = SVC()\n",
    "# final_nb_model = GaussianNB()\n",
    "# final_rf_model = RandomForestClassifier(random_state=18)\n",
    "final_svm_model.fit(X, y)\n",
    "# final_nb_model.fit(X, y)\n",
    "# final_rf_model.fit(X, y)\n",
    "\n",
    "# Reading the test data\n",
    "test_data = pd.read_csv(\"./Testing.csv\").dropna(axis=1)\n",
    "test_X = test_data.iloc[:, :-1]\n",
    "test_Y = encoder.fit_transform(test_data.iloc[:, -1])\n",
    "\n",
    "# # Making prediction by take mode of predictions\n",
    "# # made by all the classifiers\n",
    "svm_preds = final_svm_model.predict(test_X)\n",
    "# nb_preds = final_nb_model.predict(test_X)\n",
    "# rf_preds = final_rf_model.predict(test_X)\n",
    "# final_preds = [mode([i,j,k])[0][0] for i,j,\n",
    "               # k in zip(svm_preds, nb_preds, rf_preds)]\n",
    "\n",
    "print(f\"Accuracy on Test dataset by the combined model\\\n",
    ": {accuracy_score(test_Y, svm_preds)*100}\")\n",
    "\n",
    "# cf_matrix = confusion_matrix(test_Y, final_preds)\n",
    "# plt.figure(figsize=(12,8))\n",
    "\n",
    "# sns.heatmap(cf_matrix, annot = True)\n",
    "# plt.title(\"Confusion Matrix for Combined Model on Test Dataset\")\n",
    "# plt.show()\n"
   ]
  },
  {
   "cell_type": "code",
   "execution_count": 111,
   "metadata": {},
   "outputs": [
    {
     "name": "stdout",
     "output_type": "stream",
     "text": [
      "Fungal infection\n"
     ]
    },
    {
     "name": "stderr",
     "output_type": "stream",
     "text": [
      "c:\\python\\lib\\site-packages\\sklearn\\base.py:450: UserWarning: X does not have valid feature names, but SVC was fitted with feature names\n",
      "  warnings.warn(\n"
     ]
    }
   ],
   "source": [
    "symptoms = X.columns.values\n",
    "\n",
    "symptom_index = {}\n",
    "for index, value in enumerate(symptoms):\n",
    "    symptom = \" \".join([i.capitalize() for i in value.split(\"_\")])\n",
    "    symptom_index[symptom] = index\n",
    "\n",
    "\n",
    "data_dict = {\n",
    "    \"symptom_index\":symptom_index,\n",
    "    \"predictions_classes\":encoder.classes_\n",
    "}\n",
    "\n",
    "def predictDisease(symptoms):\n",
    "    symptoms = symptoms.split(\",\")\n",
    "   \n",
    "    # creating input data for the models\n",
    "    input_data = [0] * len(data_dict[\"symptom_index\"])\n",
    "    for symptom in symptoms:\n",
    "        index = data_dict[\"symptom_index\"][symptom]\n",
    "        input_data[index] = 1\n",
    "         \n",
    "#     # reshaping the input data and converting it\n",
    "#     # into suitable format for model predictions\n",
    "    input_data = np.array(input_data).reshape(1,-1)\n",
    "# #     # generating individual outputs\n",
    "    # rf_prediction = data_dict[\"predictions_classes\"][final_rf_model.predict(input_data)[0]]\n",
    "#     nb_prediction = data_dict[\"predictions_classes\"][final_nb_model.predict(input_data)[0]]\n",
    "    svm_prediction = data_dict[\"predictions_classes\"][final_svm_model.predict(input_data)[0]]\n",
    "     \n",
    "# #     # making final prediction by taking mode of all predictions\n",
    "#     final_prediction = mode([rf_prediction,nb_prediction, svm_prediction])[0][0]\n",
    "#     predictions = {\n",
    "#         \"rf_model_prediction\": rf_prediction,\n",
    "#         \"naive_bayes_prediction\": nb_prediction,\n",
    "#         \"svm_model_prediction\": nb_prediction,\n",
    "#         \"final_prediction\":final_prediction\n",
    "#     }\n",
    "    return svm_prediction\n",
    " \n",
    "# Testing the function+\n",
    "print(predictDisease(\"Itching,Skin Rash,Nodal Skin Eruptions\"))"
   ]
  },
  {
   "cell_type": "code",
   "execution_count": 126,
   "metadata": {},
   "outputs": [],
   "source": [
    "import pickle\n",
    "\n",
    "filename = 'model.h5'\n",
    "pickle.dump(final_svm_model,open(filename, 'wb'))"
   ]
  },
  {
   "cell_type": "code",
   "execution_count": 130,
   "metadata": {},
   "outputs": [
    {
     "ename": "AttributeError",
     "evalue": "'SVC' object has no attribute 'save'",
     "output_type": "error",
     "traceback": [
      "\u001b[1;31m---------------------------------------------------------------------------\u001b[0m",
      "\u001b[1;31mAttributeError\u001b[0m                            Traceback (most recent call last)",
      "\u001b[1;32md:\\python\\medicinePredictor\\main.ipynb Cell 12\u001b[0m in \u001b[0;36m<cell line: 1>\u001b[1;34m()\u001b[0m\n\u001b[1;32m----> <a href='vscode-notebook-cell:/d%3A/python/medicinePredictor/main.ipynb#X40sZmlsZQ%3D%3D?line=0'>1</a>\u001b[0m final_svm_model\u001b[39m.\u001b[39;49msave(\u001b[39m'\u001b[39m\u001b[39msvm_model.h5\u001b[39m\u001b[39m'\u001b[39m)\n",
      "\u001b[1;31mAttributeError\u001b[0m: 'SVC' object has no attribute 'save'"
     ]
    }
   ],
   "source": [
    "final_svm_model.save('svm_model.h5')"
   ]
  },
  {
   "cell_type": "code",
   "execution_count": 131,
   "metadata": {},
   "outputs": [
    {
     "ename": "AttributeError",
     "evalue": "'SVC' object has no attribute 'save'",
     "output_type": "error",
     "traceback": [
      "\u001b[1;31m---------------------------------------------------------------------------\u001b[0m",
      "\u001b[1;31mAttributeError\u001b[0m                            Traceback (most recent call last)",
      "\u001b[1;32md:\\python\\medicinePredictor\\main.ipynb Cell 13\u001b[0m in \u001b[0;36m<cell line: 4>\u001b[1;34m()\u001b[0m\n\u001b[0;32m      <a href='vscode-notebook-cell:/d%3A/python/medicinePredictor/main.ipynb#X41sZmlsZQ%3D%3D?line=0'>1</a>\u001b[0m \u001b[39m# Python\u001b[39;00m\n\u001b[0;32m      <a href='vscode-notebook-cell:/d%3A/python/medicinePredictor/main.ipynb#X41sZmlsZQ%3D%3D?line=2'>3</a>\u001b[0m \u001b[39mimport\u001b[39;00m \u001b[39mtensorflowjs\u001b[39;00m \u001b[39mas\u001b[39;00m \u001b[39mtfjs\u001b[39;00m\n\u001b[1;32m----> <a href='vscode-notebook-cell:/d%3A/python/medicinePredictor/main.ipynb#X41sZmlsZQ%3D%3D?line=3'>4</a>\u001b[0m tfjs\u001b[39m.\u001b[39;49mconverters\u001b[39m.\u001b[39;49msave_keras_model(final_svm_model, \u001b[39m\"\u001b[39;49m\u001b[39m./\u001b[39;49m\u001b[39m\"\u001b[39;49m)\n",
      "File \u001b[1;32mc:\\python\\lib\\site-packages\\tensorflowjs\\converters\\keras_h5_conversion.py:347\u001b[0m, in \u001b[0;36msave_keras_model\u001b[1;34m(model, artifacts_dir, quantization_dtype_map, weight_shard_size_bytes, metadata)\u001b[0m\n\u001b[0;32m    320\u001b[0m \u001b[39mr\u001b[39m\u001b[39m\"\"\"Save a Keras model and its weights in TensorFlow.js format.\u001b[39;00m\n\u001b[0;32m    321\u001b[0m \n\u001b[0;32m    322\u001b[0m \u001b[39mArgs:\u001b[39;00m\n\u001b[1;32m   (...)\u001b[0m\n\u001b[0;32m    344\u001b[0m \u001b[39m  ValueError: If `artifacts_dir` already exists as a file (not a directory).\u001b[39;00m\n\u001b[0;32m    345\u001b[0m \u001b[39m\"\"\"\u001b[39;00m\n\u001b[0;32m    346\u001b[0m temp_h5_path \u001b[39m=\u001b[39m tempfile\u001b[39m.\u001b[39mmktemp() \u001b[39m+\u001b[39m \u001b[39m'\u001b[39m\u001b[39m.h5\u001b[39m\u001b[39m'\u001b[39m\n\u001b[1;32m--> 347\u001b[0m model\u001b[39m.\u001b[39;49msave(temp_h5_path)\n\u001b[0;32m    348\u001b[0m topology_json, weight_groups \u001b[39m=\u001b[39m (\n\u001b[0;32m    349\u001b[0m     h5_merged_saved_model_to_tfjs_format(temp_h5_path))\n\u001b[0;32m    350\u001b[0m \u001b[39mif\u001b[39;00m os\u001b[39m.\u001b[39mpath\u001b[39m.\u001b[39misfile(artifacts_dir):\n",
      "\u001b[1;31mAttributeError\u001b[0m: 'SVC' object has no attribute 'save'"
     ]
    }
   ],
   "source": [
    "# Python\n",
    "\n",
    "import tensorflowjs as tfjs\n",
    "tfjs.converters.save_keras_model(final_svm_model, \"./\")"
   ]
  }
 ],
 "metadata": {
  "kernelspec": {
   "display_name": "Python (system)",
   "language": "python",
   "name": "python3"
  },
  "language_info": {
   "codemirror_mode": {
    "name": "ipython",
    "version": 3
   },
   "file_extension": ".py",
   "mimetype": "text/x-python",
   "name": "python",
   "nbconvert_exporter": "python",
   "pygments_lexer": "ipython3",
   "version": "3.10.0"
  },
  "orig_nbformat": 4,
  "vscode": {
   "interpreter": {
    "hash": "fbe58ca63fe33f9eeae9e71d10368d2b4a57f2b1b395836210cc60d362c66949"
   }
  }
 },
 "nbformat": 4,
 "nbformat_minor": 2
}
